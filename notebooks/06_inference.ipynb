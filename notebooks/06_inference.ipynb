{
          "cells": [
                    {
                              "cell_type": "code",
                              "execution_count": 10,
                              "metadata": {},
                              "outputs": [],
                              "source": [
                                        "import sys\n",
                                        "\n",
                                        "sys.path.append(\"../libs\")\n",
                                        "\n",
                                        "\n",
                                        "CONFIG = {\n",
                                        "    \"model_path\": \"../data/model/model_calibrated.joblib\",\n",
                                        "    \"features_path\": '../data/model/baseline_features_list.json'\n",
                                        "}"
                              ]
                    },
                    {
                              "cell_type": "markdown",
                              "metadata": {
                                        "vscode": {
                                                  "languageId": "plaintext"
                                        }
                              },
                              "source": [
                                        "## Load Model"
                              ]
                    },
                    {
                              "cell_type": "code",
                              "execution_count": 11,
                              "metadata": {},
                              "outputs": [],
                              "source": [
                                        "import joblib\n",
                                        "\n",
                                        "model = joblib.load(CONFIG[\"model_path\"])"
                              ]
                    },
                    {
                              "cell_type": "code",
                              "execution_count": 12,
                              "metadata": {},
                              "outputs": [
                                        {
                                                  "data": {
                                                            "text/plain": [
                                                                      "['funded_amnt',\n",
                                                                      " 'term',\n",
                                                                      " 'installment',\n",
                                                                      " 'emp_length',\n",
                                                                      " 'home_ownership',\n",
                                                                      " 'annual_inc',\n",
                                                                      " 'verification_status',\n",
                                                                      " 'purpose',\n",
                                                                      " 'addr_state',\n",
                                                                      " 'dti',\n",
                                                                      " 'delinq_2yrs',\n",
                                                                      " 'earliest_cr_line',\n",
                                                                      " 'fico_range_low',\n",
                                                                      " 'fico_range_high',\n",
                                                                      " 'inq_last_6mths',\n",
                                                                      " 'mths_since_last_delinq',\n",
                                                                      " 'mths_since_last_record',\n",
                                                                      " 'open_acc',\n",
                                                                      " 'pub_rec',\n",
                                                                      " 'revol_bal',\n",
                                                                      " 'revol_util',\n",
                                                                      " 'total_acc',\n",
                                                                      " 'last_fico_range_high',\n",
                                                                      " 'last_fico_range_low',\n",
                                                                      " 'collections_12_mths_ex_med',\n",
                                                                      " 'mths_since_last_major_derog',\n",
                                                                      " 'application_type',\n",
                                                                      " 'annual_inc_joint',\n",
                                                                      " 'dti_joint',\n",
                                                                      " 'tot_coll_amt',\n",
                                                                      " 'tot_cur_bal',\n",
                                                                      " 'open_acc_6m',\n",
                                                                      " 'open_act_il',\n",
                                                                      " 'open_il_12m',\n",
                                                                      " 'open_il_24m',\n",
                                                                      " 'mths_since_rcnt_il',\n",
                                                                      " 'total_bal_il',\n",
                                                                      " 'il_util',\n",
                                                                      " 'open_rv_12m',\n",
                                                                      " 'open_rv_24m',\n",
                                                                      " 'max_bal_bc',\n",
                                                                      " 'all_util',\n",
                                                                      " 'total_rev_hi_lim',\n",
                                                                      " 'inq_fi',\n",
                                                                      " 'total_cu_tl',\n",
                                                                      " 'inq_last_12m',\n",
                                                                      " 'acc_open_past_24mths',\n",
                                                                      " 'avg_cur_bal',\n",
                                                                      " 'bc_open_to_buy',\n",
                                                                      " 'bc_util',\n",
                                                                      " 'chargeoff_within_12_mths',\n",
                                                                      " 'mo_sin_old_il_acct',\n",
                                                                      " 'mo_sin_old_rev_tl_op',\n",
                                                                      " 'mo_sin_rcnt_rev_tl_op',\n",
                                                                      " 'mo_sin_rcnt_tl',\n",
                                                                      " 'mort_acc',\n",
                                                                      " 'mths_since_recent_bc',\n",
                                                                      " 'mths_since_recent_bc_dlq',\n",
                                                                      " 'mths_since_recent_inq',\n",
                                                                      " 'mths_since_recent_revol_delinq',\n",
                                                                      " 'num_accts_ever_120_pd',\n",
                                                                      " 'num_actv_bc_tl',\n",
                                                                      " 'num_actv_rev_tl',\n",
                                                                      " 'num_bc_sats',\n",
                                                                      " 'num_bc_tl',\n",
                                                                      " 'num_il_tl',\n",
                                                                      " 'num_op_rev_tl',\n",
                                                                      " 'num_rev_accts',\n",
                                                                      " 'num_rev_tl_bal_gt_0',\n",
                                                                      " 'num_sats',\n",
                                                                      " 'num_tl_120dpd_2m',\n",
                                                                      " 'num_tl_30dpd',\n",
                                                                      " 'num_tl_90g_dpd_24m',\n",
                                                                      " 'num_tl_op_past_12m',\n",
                                                                      " 'pct_tl_nvr_dlq',\n",
                                                                      " 'percent_bc_gt_75',\n",
                                                                      " 'pub_rec_bankruptcies',\n",
                                                                      " 'tax_liens',\n",
                                                                      " 'tot_hi_cred_lim',\n",
                                                                      " 'total_bal_ex_mort',\n",
                                                                      " 'total_bc_limit',\n",
                                                                      " 'total_il_high_credit_limit',\n",
                                                                      " 'revol_bal_joint',\n",
                                                                      " 'sec_app_fico_range_low',\n",
                                                                      " 'sec_app_fico_range_high',\n",
                                                                      " 'sec_app_inq_last_6mths',\n",
                                                                      " 'sec_app_mort_acc',\n",
                                                                      " 'sec_app_open_acc',\n",
                                                                      " 'sec_app_revol_util',\n",
                                                                      " 'sec_app_open_act_il',\n",
                                                                      " 'sec_app_num_rev_accts',\n",
                                                                      " 'sec_app_chargeoff_within_12_mths',\n",
                                                                      " 'sec_app_collections_12_mths_ex_med',\n",
                                                                      " 'deferral_term',\n",
                                                                      " 'hardship_amount',\n",
                                                                      " 'hardship_length',\n",
                                                                      " 'hardship_dpd',\n",
                                                                      " 'orig_projected_additional_accrued_interest',\n",
                                                                      " 'hardship_payoff_balance_amount',\n",
                                                                      " 'hardship_last_payment_amount',\n",
                                                                      " 'time_of_banking_days',\n",
                                                                      " 'time_of_banking_months']"
                                                            ]
                                                  },
                                                  "execution_count": 12,
                                                  "metadata": {},
                                                  "output_type": "execute_result"
                                        }
                              ],
                              "source": [
                                        "import json\n",
                                        "\n",
                                        "with open(CONFIG[\"features_path\"], 'r') as f:\n",
                                        "    features = json.load(f)\n",
                                        "features"
                              ]
                    },
                    {
                              "cell_type": "markdown",
                              "metadata": {
                                        "vscode": {
                                                  "languageId": "plaintext"
                                        }
                              },
                              "source": [
                                        "## Predict"
                              ]
                    },
                    {
                              "cell_type": "code",
                              "execution_count": 13,
                              "metadata": {},
                              "outputs": [],
                              "source": [
                                        "import pandas as pd\n",
                                        "\n",
                                        "\n",
                                        "df  = pd.read_parquet('../data/lending_club_case_case_test_dataset.parquet')"
                              ]
                    },
                    {
                              "cell_type": "code",
                              "execution_count": 14,
                              "metadata": {},
                              "outputs": [],
                              "source": [
                                        "df['time_of_banking_days'] = (df['issue_d'] - df['earliest_cr_line']).dt.days\n",
                                        "df['time_of_banking_months'] = (df['issue_d'].dt.year - df['earliest_cr_line'].dt.year) * 12 + (df['issue_d'].dt.month - df['earliest_cr_line'].dt.month)"
                              ]
                    },
                    {
                              "cell_type": "code",
                              "execution_count": 15,
                              "metadata": {},
                              "outputs": [],
                              "source": [
                                        "cat_features = [\n",
                                        "    \"emp_length\",\n",
                                        "    \"home_ownership\",\n",
                                        "    \"verification_status\",\n",
                                        "    \"purpose\",\n",
                                        "    \"addr_state\",\n",
                                        "    \"application_type\",\n",
                                        "]"
                              ]
                    },
                    {
                              "cell_type": "code",
                              "execution_count": 16,
                              "metadata": {},
                              "outputs": [],
                              "source": [
                                        "X = df[features]"
                              ]
                    },
                    {
                              "cell_type": "code",
                              "execution_count": 17,
                              "metadata": {},
                              "outputs": [
                                        {
                                                  "name": "stderr",
                                                  "output_type": "stream",
                                                  "text": [
                                                            "/var/folders/tc/7v_6yrg96fgdxwydpsmdqhz40000gn/T/ipykernel_5851/1685576383.py:1: SettingWithCopyWarning: \n",
                                                            "A value is trying to be set on a copy of a slice from a DataFrame.\n",
                                                            "Try using .loc[row_indexer,col_indexer] = value instead\n",
                                                            "\n",
                                                            "See the caveats in the documentation: https://pandas.pydata.org/pandas-docs/stable/user_guide/indexing.html#returning-a-view-versus-a-copy\n",
                                                            "  X[cat_features] = X[cat_features].astype(str).fillna('missing')\n"
                                                  ]
                                        }
                              ],
                              "source": [
                                        "X[cat_features] = X[cat_features].astype(str).fillna('missing')\n"
                              ]
                    },
                    {
                              "cell_type": "code",
                              "execution_count": 41,
                              "metadata": {},
                              "outputs": [],
                              "source": [
                                        "df[\"default_prob\"] = model.predict_proba(X)[:, 1]\n",
                                        "df[\"default\"] = model.predict(X)"
                              ]
                    },
                    {
                              "cell_type": "code",
                              "execution_count": 63,
                              "metadata": {},
                              "outputs": [
                                        {
                                                  "data": {
                                                            "text/plain": [
                                                                      "<Axes: >"
                                                            ]
                                                  },
                                                  "execution_count": 63,
                                                  "metadata": {},
                                                  "output_type": "execute_result"
                                        },
                                        {
                                                  "data": {
                                                            "image/png": "[encoded data removed]",
                                                            "text/plain": [
                                                                      "<Figure size 640x480 with 1 Axes>"
                                                            ]
                                                  },
                                                  "metadata": {},
                                                  "output_type": "display_data"
                                        }
                              ],
                              "source": [
                                        "df[\"default_prob\"].hist()"
                              ]
                    },
                    {
                              "cell_type": "code",
                              "execution_count": null,
                              "metadata": {},
                              "outputs": [],
                              "source": []
                    }
          ],
          "metadata": {
                    "kernelspec": {
                              "display_name": ".venv",
                              "language": "python",
                              "name": "python3"
                    },
                    "language_info": {
                              "codemirror_mode": {
                                        "name": "ipython",
                                        "version": 3
                              },
                              "file_extension": ".py",
                              "mimetype": "text/x-python",
                              "name": "python",
                              "nbconvert_exporter": "python",
                              "pygments_lexer": "ipython3",
                              "version": "3.11.11"
                    }
          },
          "nbformat": 4,
          "nbformat_minor": 2
}
